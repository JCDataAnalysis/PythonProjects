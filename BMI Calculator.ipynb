{
 "cells": [
  {
   "cell_type": "markdown",
   "id": "107c4d2e",
   "metadata": {},
   "source": [
    "## BMI Calculator"
   ]
  },
  {
   "cell_type": "code",
   "execution_count": 1,
   "id": "321d5d98",
   "metadata": {},
   "outputs": [],
   "source": [
    "## BMI = (weight in pounds x 703) / (height in inches x height in inches)"
   ]
  },
  {
   "cell_type": "code",
   "execution_count": 20,
   "id": "a10a3167",
   "metadata": {},
   "outputs": [
    {
     "name": "stdout",
     "output_type": "stream",
     "text": [
      "Enter your name: Mike\n",
      "Enter your weight in pounds: 170\n",
      "Enter your height in inches: 72\n",
      "23.053626543209877\n",
      "Mike, you are normal weight.\n"
     ]
    }
   ],
   "source": [
    "name = input(\"Enter your name: \")\n",
    "\n",
    "weight = int(input(\"Enter your weight in pounds: \"))\n",
    "\n",
    "height = int(input(\"Enter your height in inches: \"))\n",
    "\n",
    "BMI = (weight * 703) / (height * height)\n",
    "\n",
    "print(BMI)\n",
    "\n",
    "if BMI > 0:\n",
    "    if(BMI<18.5):\n",
    "        print(name+', you are underweight.')\n",
    "    elif (BMI<=24.9):\n",
    "        print(name+', you are normal weight.')\n",
    "    elif (BMI<=29.9):\n",
    "        print(name+', you are overweight.')\n",
    "    elif (BMI<=34.9):\n",
    "        print(name+', you are obese.')\n",
    "    elif (BMI<=39.9):\n",
    "        print(name+', you are severy obese.')\n",
    "    elif (BMI>40):\n",
    "        print(name+', you are morbidly obese.')\n",
    "    else: \n",
    "        print('Enter valid input.')"
   ]
  }
 ],
 "metadata": {
  "kernelspec": {
   "display_name": "Python 3 (ipykernel)",
   "language": "python",
   "name": "python3"
  },
  "language_info": {
   "codemirror_mode": {
    "name": "ipython",
    "version": 3
   },
   "file_extension": ".py",
   "mimetype": "text/x-python",
   "name": "python",
   "nbconvert_exporter": "python",
   "pygments_lexer": "ipython3",
   "version": "3.10.9"
  }
 },
 "nbformat": 4,
 "nbformat_minor": 5
}
