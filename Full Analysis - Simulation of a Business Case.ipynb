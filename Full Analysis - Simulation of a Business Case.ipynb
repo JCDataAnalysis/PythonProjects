{
 "cells": [
  {
   "cell_type": "code",
   "execution_count": 1,
   "id": "2a058e1c",
   "metadata": {},
   "outputs": [],
   "source": [
    "import pandas as pd\n",
    "import seaborn as sns\n",
    "import matplotlib.pyplot as plt"
   ]
  },
  {
   "cell_type": "code",
   "execution_count": 2,
   "id": "19e88d13",
   "metadata": {},
   "outputs": [
    {
     "data": {
      "text/html": [
       "<div>\n",
       "<style scoped>\n",
       "    .dataframe tbody tr th:only-of-type {\n",
       "        vertical-align: middle;\n",
       "    }\n",
       "\n",
       "    .dataframe tbody tr th {\n",
       "        vertical-align: top;\n",
       "    }\n",
       "\n",
       "    .dataframe thead th {\n",
       "        text-align: right;\n",
       "    }\n",
       "</style>\n",
       "<table border=\"1\" class=\"dataframe\">\n",
       "  <thead>\n",
       "    <tr style=\"text-align: right;\">\n",
       "      <th></th>\n",
       "      <th>week</th>\n",
       "      <th>sales_method</th>\n",
       "      <th>customer_id</th>\n",
       "      <th>nb_sold</th>\n",
       "      <th>revenue</th>\n",
       "      <th>years_as_customer</th>\n",
       "      <th>nb_site_visits</th>\n",
       "      <th>state</th>\n",
       "    </tr>\n",
       "  </thead>\n",
       "  <tbody>\n",
       "    <tr>\n",
       "      <th>0</th>\n",
       "      <td>2</td>\n",
       "      <td>Email</td>\n",
       "      <td>2e72d641-95ac-497b-bbf8-4861764a7097</td>\n",
       "      <td>10</td>\n",
       "      <td>NaN</td>\n",
       "      <td>0</td>\n",
       "      <td>24</td>\n",
       "      <td>Arizona</td>\n",
       "    </tr>\n",
       "    <tr>\n",
       "      <th>1</th>\n",
       "      <td>6</td>\n",
       "      <td>Email + Call</td>\n",
       "      <td>3998a98d-70f5-44f7-942e-789bb8ad2fe7</td>\n",
       "      <td>15</td>\n",
       "      <td>225.47</td>\n",
       "      <td>1</td>\n",
       "      <td>28</td>\n",
       "      <td>Kansas</td>\n",
       "    </tr>\n",
       "    <tr>\n",
       "      <th>2</th>\n",
       "      <td>5</td>\n",
       "      <td>Call</td>\n",
       "      <td>d1de9884-8059-4065-b10f-86eef57e4a44</td>\n",
       "      <td>11</td>\n",
       "      <td>52.55</td>\n",
       "      <td>6</td>\n",
       "      <td>26</td>\n",
       "      <td>Wisconsin</td>\n",
       "    </tr>\n",
       "    <tr>\n",
       "      <th>3</th>\n",
       "      <td>4</td>\n",
       "      <td>Email</td>\n",
       "      <td>78aa75a4-ffeb-4817-b1d0-2f030783c5d7</td>\n",
       "      <td>11</td>\n",
       "      <td>NaN</td>\n",
       "      <td>3</td>\n",
       "      <td>25</td>\n",
       "      <td>Indiana</td>\n",
       "    </tr>\n",
       "    <tr>\n",
       "      <th>4</th>\n",
       "      <td>3</td>\n",
       "      <td>Email</td>\n",
       "      <td>10e6d446-10a5-42e5-8210-1b5438f70922</td>\n",
       "      <td>9</td>\n",
       "      <td>90.49</td>\n",
       "      <td>0</td>\n",
       "      <td>28</td>\n",
       "      <td>Illinois</td>\n",
       "    </tr>\n",
       "    <tr>\n",
       "      <th>...</th>\n",
       "      <td>...</td>\n",
       "      <td>...</td>\n",
       "      <td>...</td>\n",
       "      <td>...</td>\n",
       "      <td>...</td>\n",
       "      <td>...</td>\n",
       "      <td>...</td>\n",
       "      <td>...</td>\n",
       "    </tr>\n",
       "    <tr>\n",
       "      <th>14995</th>\n",
       "      <td>4</td>\n",
       "      <td>Call</td>\n",
       "      <td>17267b41-d048-4346-8b90-7f787690a836</td>\n",
       "      <td>10</td>\n",
       "      <td>50.82</td>\n",
       "      <td>0</td>\n",
       "      <td>22</td>\n",
       "      <td>Pennsylvania</td>\n",
       "    </tr>\n",
       "    <tr>\n",
       "      <th>14996</th>\n",
       "      <td>5</td>\n",
       "      <td>Call</td>\n",
       "      <td>09e10d6f-4508-4b27-895e-4db11ce8302b</td>\n",
       "      <td>10</td>\n",
       "      <td>52.33</td>\n",
       "      <td>1</td>\n",
       "      <td>27</td>\n",
       "      <td>Kansas</td>\n",
       "    </tr>\n",
       "    <tr>\n",
       "      <th>14997</th>\n",
       "      <td>1</td>\n",
       "      <td>Call</td>\n",
       "      <td>839653cb-68c9-48cb-a097-0a5a3b2b298b</td>\n",
       "      <td>7</td>\n",
       "      <td>34.87</td>\n",
       "      <td>4</td>\n",
       "      <td>22</td>\n",
       "      <td>West Virginia</td>\n",
       "    </tr>\n",
       "    <tr>\n",
       "      <th>14998</th>\n",
       "      <td>6</td>\n",
       "      <td>Call</td>\n",
       "      <td>e4dad70a-b23b-407c-8bd3-e32ea00fae17</td>\n",
       "      <td>13</td>\n",
       "      <td>64.90</td>\n",
       "      <td>2</td>\n",
       "      <td>27</td>\n",
       "      <td>New Jersey</td>\n",
       "    </tr>\n",
       "    <tr>\n",
       "      <th>14999</th>\n",
       "      <td>5</td>\n",
       "      <td>Email + Call</td>\n",
       "      <td>4e077235-7c17-4054-9997-7a890336a214</td>\n",
       "      <td>13</td>\n",
       "      <td>NaN</td>\n",
       "      <td>4</td>\n",
       "      <td>25</td>\n",
       "      <td>Illinois</td>\n",
       "    </tr>\n",
       "  </tbody>\n",
       "</table>\n",
       "<p>15000 rows × 8 columns</p>\n",
       "</div>"
      ],
      "text/plain": [
       "       week  sales_method                           customer_id  nb_sold  \\\n",
       "0         2         Email  2e72d641-95ac-497b-bbf8-4861764a7097       10   \n",
       "1         6  Email + Call  3998a98d-70f5-44f7-942e-789bb8ad2fe7       15   \n",
       "2         5          Call  d1de9884-8059-4065-b10f-86eef57e4a44       11   \n",
       "3         4         Email  78aa75a4-ffeb-4817-b1d0-2f030783c5d7       11   \n",
       "4         3         Email  10e6d446-10a5-42e5-8210-1b5438f70922        9   \n",
       "...     ...           ...                                   ...      ...   \n",
       "14995     4          Call  17267b41-d048-4346-8b90-7f787690a836       10   \n",
       "14996     5          Call  09e10d6f-4508-4b27-895e-4db11ce8302b       10   \n",
       "14997     1          Call  839653cb-68c9-48cb-a097-0a5a3b2b298b        7   \n",
       "14998     6          Call  e4dad70a-b23b-407c-8bd3-e32ea00fae17       13   \n",
       "14999     5  Email + Call  4e077235-7c17-4054-9997-7a890336a214       13   \n",
       "\n",
       "       revenue  years_as_customer  nb_site_visits          state  \n",
       "0          NaN                  0              24        Arizona  \n",
       "1       225.47                  1              28         Kansas  \n",
       "2        52.55                  6              26      Wisconsin  \n",
       "3          NaN                  3              25        Indiana  \n",
       "4        90.49                  0              28       Illinois  \n",
       "...        ...                ...             ...            ...  \n",
       "14995    50.82                  0              22   Pennsylvania  \n",
       "14996    52.33                  1              27         Kansas  \n",
       "14997    34.87                  4              22  West Virginia  \n",
       "14998    64.90                  2              27     New Jersey  \n",
       "14999      NaN                  4              25       Illinois  \n",
       "\n",
       "[15000 rows x 8 columns]"
      ]
     },
     "execution_count": 2,
     "metadata": {},
     "output_type": "execute_result"
    }
   ],
   "source": [
    "df=pd.read_csv('/Users/juliacorominasfont/Downloads/product_sales.csv')\n",
    "df"
   ]
  },
  {
   "cell_type": "markdown",
   "id": "cde8b964",
   "metadata": {},
   "source": [
    "# Data cleaning and validation"
   ]
  },
  {
   "cell_type": "code",
   "execution_count": 3,
   "id": "48286c75",
   "metadata": {},
   "outputs": [
    {
     "name": "stdout",
     "output_type": "stream",
     "text": [
      "<class 'pandas.core.frame.DataFrame'>\n",
      "RangeIndex: 15000 entries, 0 to 14999\n",
      "Data columns (total 8 columns):\n",
      " #   Column             Non-Null Count  Dtype  \n",
      "---  ------             --------------  -----  \n",
      " 0   week               15000 non-null  int64  \n",
      " 1   sales_method       15000 non-null  object \n",
      " 2   customer_id        15000 non-null  object \n",
      " 3   nb_sold            15000 non-null  int64  \n",
      " 4   revenue            13926 non-null  float64\n",
      " 5   years_as_customer  15000 non-null  int64  \n",
      " 6   nb_site_visits     15000 non-null  int64  \n",
      " 7   state              15000 non-null  object \n",
      "dtypes: float64(1), int64(4), object(3)\n",
      "memory usage: 937.6+ KB\n"
     ]
    }
   ],
   "source": [
    "df.info()"
   ]
  },
  {
   "cell_type": "markdown",
   "id": "76db3dff",
   "metadata": {},
   "source": [
    "Only 'revenue' column has missing values and there are 1074 missing values. All data types are correct."
   ]
  },
  {
   "cell_type": "code",
   "execution_count": 4,
   "id": "8026582d",
   "metadata": {},
   "outputs": [
    {
     "data": {
      "text/html": [
       "<div>\n",
       "<style scoped>\n",
       "    .dataframe tbody tr th:only-of-type {\n",
       "        vertical-align: middle;\n",
       "    }\n",
       "\n",
       "    .dataframe tbody tr th {\n",
       "        vertical-align: top;\n",
       "    }\n",
       "\n",
       "    .dataframe thead th {\n",
       "        text-align: right;\n",
       "    }\n",
       "</style>\n",
       "<table border=\"1\" class=\"dataframe\">\n",
       "  <thead>\n",
       "    <tr style=\"text-align: right;\">\n",
       "      <th></th>\n",
       "      <th>week</th>\n",
       "      <th>nb_sold</th>\n",
       "      <th>revenue</th>\n",
       "      <th>years_as_customer</th>\n",
       "      <th>nb_site_visits</th>\n",
       "    </tr>\n",
       "  </thead>\n",
       "  <tbody>\n",
       "    <tr>\n",
       "      <th>count</th>\n",
       "      <td>15000.000000</td>\n",
       "      <td>15000.000000</td>\n",
       "      <td>13926.000000</td>\n",
       "      <td>15000.000000</td>\n",
       "      <td>15000.000000</td>\n",
       "    </tr>\n",
       "    <tr>\n",
       "      <th>mean</th>\n",
       "      <td>3.098267</td>\n",
       "      <td>10.084667</td>\n",
       "      <td>93.934943</td>\n",
       "      <td>4.965933</td>\n",
       "      <td>24.990867</td>\n",
       "    </tr>\n",
       "    <tr>\n",
       "      <th>std</th>\n",
       "      <td>1.656420</td>\n",
       "      <td>1.812213</td>\n",
       "      <td>47.435312</td>\n",
       "      <td>5.044952</td>\n",
       "      <td>3.500914</td>\n",
       "    </tr>\n",
       "    <tr>\n",
       "      <th>min</th>\n",
       "      <td>1.000000</td>\n",
       "      <td>7.000000</td>\n",
       "      <td>32.540000</td>\n",
       "      <td>0.000000</td>\n",
       "      <td>12.000000</td>\n",
       "    </tr>\n",
       "    <tr>\n",
       "      <th>25%</th>\n",
       "      <td>2.000000</td>\n",
       "      <td>9.000000</td>\n",
       "      <td>52.470000</td>\n",
       "      <td>1.000000</td>\n",
       "      <td>23.000000</td>\n",
       "    </tr>\n",
       "    <tr>\n",
       "      <th>50%</th>\n",
       "      <td>3.000000</td>\n",
       "      <td>10.000000</td>\n",
       "      <td>89.500000</td>\n",
       "      <td>3.000000</td>\n",
       "      <td>25.000000</td>\n",
       "    </tr>\n",
       "    <tr>\n",
       "      <th>75%</th>\n",
       "      <td>5.000000</td>\n",
       "      <td>11.000000</td>\n",
       "      <td>107.327500</td>\n",
       "      <td>7.000000</td>\n",
       "      <td>27.000000</td>\n",
       "    </tr>\n",
       "    <tr>\n",
       "      <th>max</th>\n",
       "      <td>6.000000</td>\n",
       "      <td>16.000000</td>\n",
       "      <td>238.320000</td>\n",
       "      <td>63.000000</td>\n",
       "      <td>41.000000</td>\n",
       "    </tr>\n",
       "  </tbody>\n",
       "</table>\n",
       "</div>"
      ],
      "text/plain": [
       "               week       nb_sold       revenue  years_as_customer  \\\n",
       "count  15000.000000  15000.000000  13926.000000       15000.000000   \n",
       "mean       3.098267     10.084667     93.934943           4.965933   \n",
       "std        1.656420      1.812213     47.435312           5.044952   \n",
       "min        1.000000      7.000000     32.540000           0.000000   \n",
       "25%        2.000000      9.000000     52.470000           1.000000   \n",
       "50%        3.000000     10.000000     89.500000           3.000000   \n",
       "75%        5.000000     11.000000    107.327500           7.000000   \n",
       "max        6.000000     16.000000    238.320000          63.000000   \n",
       "\n",
       "       nb_site_visits  \n",
       "count    15000.000000  \n",
       "mean        24.990867  \n",
       "std          3.500914  \n",
       "min         12.000000  \n",
       "25%         23.000000  \n",
       "50%         25.000000  \n",
       "75%         27.000000  \n",
       "max         41.000000  "
      ]
     },
     "execution_count": 4,
     "metadata": {},
     "output_type": "execute_result"
    }
   ],
   "source": [
    "df.describe()"
   ]
  },
  {
   "cell_type": "code",
   "execution_count": 5,
   "id": "b6a6ef69",
   "metadata": {},
   "outputs": [
    {
     "data": {
      "text/plain": [
       "array(['Email', 'Email + Call', 'Call', 'em + call', 'email'],\n",
       "      dtype=object)"
      ]
     },
     "execution_count": 5,
     "metadata": {},
     "output_type": "execute_result"
    }
   ],
   "source": [
    "df['sales_method'].unique()"
   ]
  },
  {
   "cell_type": "code",
   "execution_count": 6,
   "id": "04340240",
   "metadata": {},
   "outputs": [],
   "source": [
    "import re\n",
    "df['sales_method'] = df['sales_method'].str.replace('em\\s*\\+\\s*call', 'Email + Call', regex=True, flags=re.IGNORECASE).str.replace('email', 'Email', regex=True, flags=re.IGNORECASE)\n"
   ]
  },
  {
   "cell_type": "code",
   "execution_count": 7,
   "id": "af855033",
   "metadata": {},
   "outputs": [
    {
     "data": {
      "text/plain": [
       "Email           7466\n",
       "Call            4962\n",
       "Email + Call    2572\n",
       "Name: sales_method, dtype: int64"
      ]
     },
     "execution_count": 7,
     "metadata": {},
     "output_type": "execute_result"
    }
   ],
   "source": [
    "df['sales_method'].value_counts()"
   ]
  },
  {
   "cell_type": "markdown",
   "id": "7bb7895e",
   "metadata": {},
   "source": [
    "Cleaning is needed to replace em + call and email with Email + Call and Email."
   ]
  },
  {
   "cell_type": "code",
   "execution_count": 9,
   "id": "dc20cafc",
   "metadata": {},
   "outputs": [],
   "source": [
    "median_revenue = df['revenue'].median()\n",
    "df['revenue'].fillna(median_revenue, inplace=True)"
   ]
  },
  {
   "cell_type": "code",
   "execution_count": 10,
   "id": "bba920d0",
   "metadata": {},
   "outputs": [
    {
     "name": "stdout",
     "output_type": "stream",
     "text": [
      "<class 'pandas.core.frame.DataFrame'>\n",
      "RangeIndex: 15000 entries, 0 to 14999\n",
      "Data columns (total 8 columns):\n",
      " #   Column             Non-Null Count  Dtype  \n",
      "---  ------             --------------  -----  \n",
      " 0   week               15000 non-null  int64  \n",
      " 1   sales_method       15000 non-null  object \n",
      " 2   customer_id        15000 non-null  object \n",
      " 3   nb_sold            15000 non-null  int64  \n",
      " 4   revenue            15000 non-null  float64\n",
      " 5   years_as_customer  15000 non-null  int64  \n",
      " 6   nb_site_visits     15000 non-null  int64  \n",
      " 7   state              15000 non-null  object \n",
      "dtypes: float64(1), int64(4), object(3)\n",
      "memory usage: 937.6+ KB\n"
     ]
    }
   ],
   "source": [
    "df.info()"
   ]
  },
  {
   "cell_type": "code",
   "execution_count": 11,
   "id": "8953fe5e",
   "metadata": {},
   "outputs": [
    {
     "data": {
      "text/plain": [
       "array(['Arizona', 'Kansas', 'Wisconsin', 'Indiana', 'Illinois',\n",
       "       'Mississippi', 'Georgia', 'Oklahoma', 'Massachusetts', 'Missouri',\n",
       "       'Texas', 'New York', 'Maryland', 'California', 'Tennessee',\n",
       "       'Pennsylvania', 'North Dakota', 'Florida', 'Michigan',\n",
       "       'North Carolina', 'Hawaii', 'Colorado', 'Louisiana', 'Virginia',\n",
       "       'New Mexico', 'Arkansas', 'Alaska', 'Oregon', 'New Hampshire',\n",
       "       'Ohio', 'New Jersey', 'Connecticut', 'Iowa', 'Montana',\n",
       "       'Washington', 'Kentucky', 'Alabama', 'Nebraska', 'South Carolina',\n",
       "       'Minnesota', 'South Dakota', 'Delaware', 'Maine', 'Utah',\n",
       "       'West Virginia', 'Vermont', 'Rhode Island', 'Nevada', 'Idaho',\n",
       "       'Wyoming'], dtype=object)"
      ]
     },
     "execution_count": 11,
     "metadata": {},
     "output_type": "execute_result"
    }
   ],
   "source": [
    "df['state'].unique()"
   ]
  },
  {
   "cell_type": "code",
   "execution_count": 12,
   "id": "b66ae27f",
   "metadata": {},
   "outputs": [
    {
     "data": {
      "text/plain": [
       "50"
      ]
     },
     "execution_count": 12,
     "metadata": {},
     "output_type": "execute_result"
    }
   ],
   "source": [
    "df['state'].nunique()"
   ]
  },
  {
   "cell_type": "code",
   "execution_count": 13,
   "id": "982264db",
   "metadata": {},
   "outputs": [
    {
     "data": {
      "text/plain": [
       "(15000, 8)"
      ]
     },
     "execution_count": 13,
     "metadata": {},
     "output_type": "execute_result"
    }
   ],
   "source": [
    "df.shape"
   ]
  },
  {
   "cell_type": "markdown",
   "id": "130b9af5",
   "metadata": {},
   "source": [
    "# Recap"
   ]
  },
  {
   "cell_type": "markdown",
   "id": "eab3c24f",
   "metadata": {},
   "source": [
    "The dataset contains 15000 rows and 8 columns before cleaning and validation. I have validated all columns against the criteria in the dataset table:\n",
    "\n",
    "- **week**: Numeric values without missing values, same as the description. No cleaning is needed.\n",
    "- **sales_method**: There are 5 unique values instead of 3 and no missing values. Cleaning is needed to replace em + call and email with Email + Call and Email, respectively. \n",
    "- **customer_id**: There are 1500 unique values that match the description given. There are no missing values. No changes are made to this column.\n",
    "- **nb_sold**: Numeric values without missing values, same as the description. No cleaning is needed.\n",
    "- **revenue**: Numeric values with 1074 missing values. All values are rounded to 2 decimal places and missing values are replaced with revenue's median.  \n",
    "- **years_as_customer**: Numeric values without missing values, same as the description. No cleaning is needed. \n",
    "- **nb_site_visits**: Numeric values without missing values, same as the description. No cleaning is needed. \n",
    "- **state**: 50 unique values without missing values, same as the description. No cleaning is needed.\n",
    "\n",
    "After the data validation, the dataset contains 15000 rows and 8 columns without missing values."
   ]
  },
  {
   "cell_type": "markdown",
   "id": "0e161a2d",
   "metadata": {},
   "source": [
    "## How many customers were there for each approach?"
   ]
  },
  {
   "cell_type": "code",
   "execution_count": 14,
   "id": "fb094415",
   "metadata": {},
   "outputs": [
    {
     "data": {
      "text/plain": [
       "Email           49.773333\n",
       "Call            33.080000\n",
       "Email + Call    17.146667\n",
       "Name: sales_method, dtype: float64"
      ]
     },
     "execution_count": 14,
     "metadata": {},
     "output_type": "execute_result"
    }
   ],
   "source": [
    "df['sales_method'].value_counts(normalize=True) * 100"
   ]
  },
  {
   "cell_type": "code",
   "execution_count": 15,
   "id": "55ab0b46",
   "metadata": {},
   "outputs": [
    {
     "data": {
      "image/png": "[encoded data removed]",
      "text/plain": [
       "<Figure size 640x480 with 1 Axes>"
      ]
     },
     "metadata": {},
     "output_type": "display_data"
    }
   ],
   "source": [
    "sns.countplot(x='sales_method', data=df, order=sorted(df['sales_method'].unique()))\n",
    "plt.title(\"Customers by Sales Method\")\n",
    "plt.xlabel(\"Sales Method\")\n",
    "plt.ylabel(\"Number of customers\")\n",
    "plt.show()"
   ]
  },
  {
   "cell_type": "markdown",
   "id": "82377d47",
   "metadata": {},
   "source": [
    "From the last 6 weeks' record, the Email approach accounts for nearly half of the customer interactions. The second most utilized sales method is the Call, with the least used approach being the combination of the two (Email + Call). Also, we notice that the number of customers approached through Phone Calls nearly doubles the number of customers in the combined method.\n",
    "\n",
    "Therefore, there is a significant difference between the number of customers for each method, which is worth noticing taking into account the difference in time spend by team members in each method."
   ]
  },
  {
   "cell_type": "markdown",
   "id": "720ebdc2",
   "metadata": {},
   "source": [
    "## What does the spread of revenue look like?\n",
    "\n",
    "We also want to analyze how the spread of revenue looks like overall. I was looking at the distribution of revenue. Most of the revenues fall under 150 and they reach a maximum of 238.30."
   ]
  },
  {
   "cell_type": "code",
   "execution_count": 17,
   "id": "7451fd27",
   "metadata": {},
   "outputs": [
    {
     "data": {
      "image/png": "[encoded data removed]",
      "text/plain": [
       "<Figure size 640x480 with 1 Axes>"
      ]
     },
     "metadata": {},
     "output_type": "display_data"
    }
   ],
   "source": [
    "sns.histplot(data=df, x='revenue')\n",
    "plt.title('The distribution of revenue')\n",
    "plt.xlabel(\"Revenue\")\n",
    "plt.ylabel(\"Count of sales\")\n",
    "plt.show()"
   ]
  },
  {
   "cell_type": "markdown",
   "id": "0055f323",
   "metadata": {},
   "source": [
    "From the multiple boxplots below, we can see that the revenue range from sales obtained using the Email + Call method is more significant than for the other two methods. Although it is the less used approach, it stands out as having both the highest revenue and the widest interquartile range. This suggests that this approach is particularly effective in generating substantial sales, including all those sales exceeding 150 in revenue. \n",
    "\n",
    "In contrast, the Call method, even though it is the most time-consuming approach, exerts the least influence on revenue. Conversely, the Email method generates less revenue than the combined approach, but it comes with the advantage of being less time-consuming."
   ]
  },
  {
   "cell_type": "code",
   "execution_count": 18,
   "id": "72ffbfb1",
   "metadata": {},
   "outputs": [
    {
     "data": {
      "image/png": "[encoded data removed]",
      "text/plain": [
       "<Figure size 640x480 with 1 Axes>"
      ]
     },
     "metadata": {},
     "output_type": "display_data"
    }
   ],
   "source": [
    "sns.boxplot(data=df, x='sales_method', y='revenue', order=sorted(df['sales_method'].unique()))\n",
    "plt.title('The distribution of revenue by Sales Method')\n",
    "plt.xlabel(\"Sales Method\")\n",
    "plt.ylabel(\"Revenue\")\n",
    "plt.show()"
   ]
  },
  {
   "cell_type": "markdown",
   "id": "3069874e",
   "metadata": {},
   "source": [
    "## Which method is better to use?\n",
    "\n",
    "Since the goal is to use the best techniques to sell the new products effectively, we have to consider how every approach has contributed to the total sales. \n",
    "\n",
    "From the bar chart below, we see that the Email method is the one that accounts for more products sold, followed by the Call method and the Call approach.\n"
   ]
  },
  {
   "cell_type": "code",
   "execution_count": 19,
   "id": "16435c5e",
   "metadata": {},
   "outputs": [
    {
     "data": {
      "image/png": "[encoded data removed]",
      "text/plain": [
       "<Figure size 640x480 with 1 Axes>"
      ]
     },
     "metadata": {},
     "output_type": "display_data"
    }
   ],
   "source": [
    "products_per_method = df.groupby('sales_method')['nb_sold'].sum().reset_index()\n",
    "sns.barplot(data=products_per_method, x='sales_method', y='nb_sold', order=sorted(df['sales_method'].unique()))\n",
    "plt.title('Products Sold by Sales Method')\n",
    "plt.xlabel(\"Sales Method\")\n",
    "plt.ylabel(\"Products Sold\")\n",
    "plt.show()"
   ]
  },
  {
   "cell_type": "code",
   "execution_count": 20,
   "id": "80a15cfc",
   "metadata": {},
   "outputs": [
    {
     "data": {
      "text/plain": [
       "sales_method\n",
       "Call            31.193892\n",
       "Email           48.019435\n",
       "Email + Call    20.786673\n",
       "Name: nb_sold, dtype: float64"
      ]
     },
     "execution_count": 20,
     "metadata": {},
     "output_type": "execute_result"
    }
   ],
   "source": [
    "total_products_sold = df['nb_sold'].sum()\n",
    "df.groupby('sales_method')['nb_sold'].sum() / total_products_sold * 100"
   ]
  },
  {
   "cell_type": "markdown",
   "id": "2521998c",
   "metadata": {},
   "source": [
    "In contrast, if we focus on total revenue generated by each approach results differ. In this case, the Email is also the one that has contributed the most, accounting for more than half of the total revenue, but more importantly the revenue generated by the Email + Call approach is almost twice the revenue generated by the Call method."
   ]
  },
  {
   "cell_type": "code",
   "execution_count": 21,
   "id": "480e1229",
   "metadata": {},
   "outputs": [
    {
     "data": {
      "image/png": "[encoded data removed]",
      "text/plain": [
       "<Figure size 640x480 with 1 Axes>"
      ]
     },
     "metadata": {},
     "output_type": "display_data"
    }
   ],
   "source": [
    "revenue_per_method = df.groupby('sales_method')['revenue'].sum().reset_index()\n",
    "sns.barplot(data=revenue_per_method, x='sales_method', y='revenue', order=sorted(df['sales_method'].unique()))\n",
    "plt.title('Total Revenue by Sales Method')\n",
    "plt.xlabel(\"Sales Method\")\n",
    "plt.ylabel(\"Total revenue\")\n",
    "plt.show()"
   ]
  },
  {
   "cell_type": "code",
   "execution_count": 22,
   "id": "80bfd709",
   "metadata": {},
   "outputs": [
    {
     "data": {
      "text/plain": [
       "sales_method\n",
       "Call            17.358809\n",
       "Email           51.344146\n",
       "Email + Call    31.297044\n",
       "Name: revenue, dtype: float64"
      ]
     },
     "execution_count": 22,
     "metadata": {},
     "output_type": "execute_result"
    }
   ],
   "source": [
    "total_revenue = df['revenue'].sum()\n",
    "df.groupby('sales_method')['revenue'].sum() / total_revenue * 100"
   ]
  }
 ],
 "metadata": {
  "kernelspec": {
   "display_name": "Python 3 (ipykernel)",
   "language": "python",
   "name": "python3"
  },
  "language_info": {
   "codemirror_mode": {
    "name": "ipython",
    "version": 3
   },
   "file_extension": ".py",
   "mimetype": "text/x-python",
   "name": "python",
   "nbconvert_exporter": "python",
   "pygments_lexer": "ipython3",
   "version": "3.10.9"
  }
 },
 "nbformat": 4,
 "nbformat_minor": 5
}
